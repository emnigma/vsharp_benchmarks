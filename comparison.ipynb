{
 "cells": [
  {
   "cell_type": "code",
   "execution_count": 191,
   "metadata": {},
   "outputs": [],
   "source": [
    "import matplotlib.pyplot as plt\n",
    "import pandas as pd\n",
    "import seaborn as sns"
   ]
  },
  {
   "cell_type": "markdown",
   "metadata": {},
   "source": [
    "## Загрузка, фильтрация"
   ]
  },
  {
   "cell_type": "code",
   "execution_count": 192,
   "metadata": {},
   "outputs": [],
   "source": [
    "def remove_generic_indicators(df: pd.DataFrame):\n",
    "    df[\"method\"] = df[\"method\"].map(lambda method: method.replace(\"`1\", \"\"))\n",
    "    return df\n",
    "\n",
    "\n",
    "def prepare_nn_res(nn_res_df: pd.DataFrame) -> pd.DataFrame:\n",
    "    return nn_res_df.rename(\n",
    "        lambda x: f\"{x}__nn\" if x != \"method\" else \"method\", axis=\"columns\"\n",
    "    )\n",
    "\n",
    "\n",
    "def prepare_heu_res(heu_res: pd.DataFrame) -> pd.DataFrame:\n",
    "    return remove_generic_indicators(heu_res)"
   ]
  },
  {
   "cell_type": "code",
   "execution_count": 193,
   "metadata": {},
   "outputs": [],
   "source": [
    "nn_res_path = \"/Users/emax/Data/python/vsharp_searcher_bench/2023_12_22_10:27:33_127528_797_Adam_0_0002277922061785549_KLDL.log\"\n",
    "heuristic_res_path = \"/Users/emax/Data/python/vsharp_searcher_bench/ExecutionTreeContributedCoverage_all.csv\"\n",
    "\n",
    "from parse_pretty import parse_pretty"
   ]
  },
  {
   "cell_type": "code",
   "execution_count": 194,
   "metadata": {},
   "outputs": [
    {
     "data": {
      "text/plain": [
       "Ellipsis"
      ]
     },
     "execution_count": 194,
     "metadata": {},
     "output_type": "execute_result"
    }
   ],
   "source": [
    "with open(nn_res_path, \"r\") as pretty_file:\n",
    "    nn_df = parse_pretty(pretty_file.readlines())\n",
    "heu_df = pd.read_csv(heuristic_res_path)\n",
    "\n",
    "nn_df = prepare_nn_res(nn_df)\n",
    "heu_df = prepare_heu_res(heu_df)\n",
    "\n",
    "heu_df = heu_df.drop([\"total_time_sec\", \"timeouted\"], axis=1)\n",
    "..."
   ]
  },
  {
   "cell_type": "markdown",
   "metadata": {},
   "source": [
    "Не будем учитывать вхождения, на которых coverage_tool не запустился:"
   ]
  },
  {
   "cell_type": "code",
   "execution_count": 195,
   "metadata": {},
   "outputs": [],
   "source": [
    "def drop_failed_heu(df: pd.DataFrame) -> int:\n",
    "    failed = df[(df[\"coverage\"] == -1)].index\n",
    "    return failed\n",
    "\n",
    "\n",
    "def drop_failed_nn(df: pd.DataFrame) -> int:\n",
    "    failed = df[(df[\"coverage__nn\"] == -1)].index\n",
    "    return failed\n",
    "\n",
    "\n",
    "heu_df = heu_df.drop(drop_failed_heu(heu_df))\n",
    "nn_df = nn_df.drop(drop_failed_nn(nn_df))"
   ]
  },
  {
   "cell_type": "code",
   "execution_count": 196,
   "metadata": {},
   "outputs": [
    {
     "data": {
      "text/html": [
       "<div>\n",
       "<style scoped>\n",
       "    .dataframe tbody tr th:only-of-type {\n",
       "        vertical-align: middle;\n",
       "    }\n",
       "\n",
       "    .dataframe tbody tr th {\n",
       "        vertical-align: top;\n",
       "    }\n",
       "\n",
       "    .dataframe thead th {\n",
       "        text-align: right;\n",
       "    }\n",
       "</style>\n",
       "<table border=\"1\" class=\"dataframe\">\n",
       "  <thead>\n",
       "    <tr style=\"text-align: right;\">\n",
       "      <th></th>\n",
       "      <th>steps</th>\n",
       "      <th>tests</th>\n",
       "      <th>errors</th>\n",
       "      <th>coverage</th>\n",
       "    </tr>\n",
       "  </thead>\n",
       "  <tbody>\n",
       "    <tr>\n",
       "      <th>count</th>\n",
       "      <td>205.000000</td>\n",
       "      <td>205.000000</td>\n",
       "      <td>205.000000</td>\n",
       "      <td>205.000000</td>\n",
       "    </tr>\n",
       "    <tr>\n",
       "      <th>mean</th>\n",
       "      <td>2483.526829</td>\n",
       "      <td>2.892683</td>\n",
       "      <td>7.951220</td>\n",
       "      <td>71.268293</td>\n",
       "    </tr>\n",
       "    <tr>\n",
       "      <th>std</th>\n",
       "      <td>2289.475528</td>\n",
       "      <td>3.901759</td>\n",
       "      <td>21.377502</td>\n",
       "      <td>35.492214</td>\n",
       "    </tr>\n",
       "    <tr>\n",
       "      <th>min</th>\n",
       "      <td>13.000000</td>\n",
       "      <td>0.000000</td>\n",
       "      <td>0.000000</td>\n",
       "      <td>0.000000</td>\n",
       "    </tr>\n",
       "    <tr>\n",
       "      <th>25%</th>\n",
       "      <td>146.000000</td>\n",
       "      <td>1.000000</td>\n",
       "      <td>1.000000</td>\n",
       "      <td>52.000000</td>\n",
       "    </tr>\n",
       "    <tr>\n",
       "      <th>50%</th>\n",
       "      <td>1620.000000</td>\n",
       "      <td>2.000000</td>\n",
       "      <td>3.000000</td>\n",
       "      <td>89.000000</td>\n",
       "    </tr>\n",
       "    <tr>\n",
       "      <th>75%</th>\n",
       "      <td>5000.000000</td>\n",
       "      <td>3.000000</td>\n",
       "      <td>7.000000</td>\n",
       "      <td>100.000000</td>\n",
       "    </tr>\n",
       "    <tr>\n",
       "      <th>max</th>\n",
       "      <td>5001.000000</td>\n",
       "      <td>31.000000</td>\n",
       "      <td>230.000000</td>\n",
       "      <td>100.000000</td>\n",
       "    </tr>\n",
       "  </tbody>\n",
       "</table>\n",
       "</div>"
      ],
      "text/plain": [
       "             steps       tests      errors    coverage\n",
       "count   205.000000  205.000000  205.000000  205.000000\n",
       "mean   2483.526829    2.892683    7.951220   71.268293\n",
       "std    2289.475528    3.901759   21.377502   35.492214\n",
       "min      13.000000    0.000000    0.000000    0.000000\n",
       "25%     146.000000    1.000000    1.000000   52.000000\n",
       "50%    1620.000000    2.000000    3.000000   89.000000\n",
       "75%    5000.000000    3.000000    7.000000  100.000000\n",
       "max    5001.000000   31.000000  230.000000  100.000000"
      ]
     },
     "execution_count": 196,
     "metadata": {},
     "output_type": "execute_result"
    }
   ],
   "source": [
    "heu_df.describe()"
   ]
  },
  {
   "cell_type": "code",
   "execution_count": 197,
   "metadata": {},
   "outputs": [
    {
     "data": {
      "text/html": [
       "<div>\n",
       "<style scoped>\n",
       "    .dataframe tbody tr th:only-of-type {\n",
       "        vertical-align: middle;\n",
       "    }\n",
       "\n",
       "    .dataframe tbody tr th {\n",
       "        vertical-align: top;\n",
       "    }\n",
       "\n",
       "    .dataframe thead th {\n",
       "        text-align: right;\n",
       "    }\n",
       "</style>\n",
       "<table border=\"1\" class=\"dataframe\">\n",
       "  <thead>\n",
       "    <tr style=\"text-align: right;\">\n",
       "      <th></th>\n",
       "      <th>steps__nn</th>\n",
       "      <th>tests__nn</th>\n",
       "      <th>errors__nn</th>\n",
       "      <th>coverage__nn</th>\n",
       "    </tr>\n",
       "  </thead>\n",
       "  <tbody>\n",
       "    <tr>\n",
       "      <th>count</th>\n",
       "      <td>148.000000</td>\n",
       "      <td>148.000000</td>\n",
       "      <td>148.000000</td>\n",
       "      <td>148.000000</td>\n",
       "    </tr>\n",
       "    <tr>\n",
       "      <th>mean</th>\n",
       "      <td>1644.486486</td>\n",
       "      <td>2.209459</td>\n",
       "      <td>2.648649</td>\n",
       "      <td>65.885135</td>\n",
       "    </tr>\n",
       "    <tr>\n",
       "      <th>std</th>\n",
       "      <td>2119.510460</td>\n",
       "      <td>2.577383</td>\n",
       "      <td>3.802729</td>\n",
       "      <td>43.913261</td>\n",
       "    </tr>\n",
       "    <tr>\n",
       "      <th>min</th>\n",
       "      <td>0.000000</td>\n",
       "      <td>0.000000</td>\n",
       "      <td>0.000000</td>\n",
       "      <td>0.000000</td>\n",
       "    </tr>\n",
       "    <tr>\n",
       "      <th>25%</th>\n",
       "      <td>49.000000</td>\n",
       "      <td>0.750000</td>\n",
       "      <td>0.000000</td>\n",
       "      <td>0.000000</td>\n",
       "    </tr>\n",
       "    <tr>\n",
       "      <th>50%</th>\n",
       "      <td>288.500000</td>\n",
       "      <td>1.000000</td>\n",
       "      <td>1.000000</td>\n",
       "      <td>100.000000</td>\n",
       "    </tr>\n",
       "    <tr>\n",
       "      <th>75%</th>\n",
       "      <td>5000.000000</td>\n",
       "      <td>3.000000</td>\n",
       "      <td>4.000000</td>\n",
       "      <td>100.000000</td>\n",
       "    </tr>\n",
       "    <tr>\n",
       "      <th>max</th>\n",
       "      <td>5000.000000</td>\n",
       "      <td>13.000000</td>\n",
       "      <td>20.000000</td>\n",
       "      <td>100.000000</td>\n",
       "    </tr>\n",
       "  </tbody>\n",
       "</table>\n",
       "</div>"
      ],
      "text/plain": [
       "         steps__nn   tests__nn  errors__nn  coverage__nn\n",
       "count   148.000000  148.000000  148.000000    148.000000\n",
       "mean   1644.486486    2.209459    2.648649     65.885135\n",
       "std    2119.510460    2.577383    3.802729     43.913261\n",
       "min       0.000000    0.000000    0.000000      0.000000\n",
       "25%      49.000000    0.750000    0.000000      0.000000\n",
       "50%     288.500000    1.000000    1.000000    100.000000\n",
       "75%    5000.000000    3.000000    4.000000    100.000000\n",
       "max    5000.000000   13.000000   20.000000    100.000000"
      ]
     },
     "execution_count": 197,
     "metadata": {},
     "output_type": "execute_result"
    }
   ],
   "source": [
    "nn_df.describe()"
   ]
  },
  {
   "cell_type": "code",
   "execution_count": 198,
   "metadata": {},
   "outputs": [],
   "source": [
    "inner_df = heu_df.merge(nn_df, on=\"method\", how=\"inner\")\n",
    "outer_df = heu_df.merge(nn_df, on=\"method\", how=\"outer\")"
   ]
  },
  {
   "cell_type": "code",
   "execution_count": 199,
   "metadata": {},
   "outputs": [
    {
     "data": {
      "text/plain": [
       "Ellipsis"
      ]
     },
     "execution_count": 199,
     "metadata": {},
     "output_type": "execute_result"
    }
   ],
   "source": [
    "# outer_df[(outer_df[\"coverage\"].isna()) & ~(outer_df[\"coverage__nn\"].isna())]\n",
    "# outer_df[~(outer_df[\"coverage\"].isna()) & (outer_df[\"coverage__nn\"].isna())]\n",
    "..."
   ]
  },
  {
   "cell_type": "markdown",
   "metadata": {},
   "source": [
    "## Метрики"
   ]
  },
  {
   "cell_type": "markdown",
   "metadata": {},
   "source": [
    "Распределение:"
   ]
  },
  {
   "cell_type": "code",
   "execution_count": 200,
   "metadata": {},
   "outputs": [
    {
     "name": "stdout",
     "output_type": "stream",
     "text": [
      "Coverage:\n",
      "heuristic: {'mean': 75.75, 'median': 100.0, 'std': 33.09}\n",
      "nn:        {'mean': 65.95, 'median': 100.0, 'std': 44.08}\n",
      "\n",
      "Tests:\n",
      "heuristic: {'mean': 3.64, 'median': 2.0, 'std': 4.58}\n",
      "nn:        {'mean': 2.31, 'median': 1.5, 'std': 2.59}\n",
      "\n",
      "Steps:\n",
      "heuristic: {'mean': 2889.18, 'median': 3814.5, 'std': 2193.42}\n",
      "nn:        {'mean': 1408.75, 'median': 265.5, 'std': 1982.65}\n",
      "\n",
      "Errors:\n",
      "heuristic: {'mean': 9.95, 'median': 3.0, 'std': 26.6}\n",
      "nn:        {'mean': 2.85, 'median': 1.0, 'std': 4.11}\n"
     ]
    }
   ],
   "source": [
    "def stats(ser: pd.Series) -> tuple:\n",
    "    return {\n",
    "        \"mean\": round(ser.mean(), 2),\n",
    "        \"median\": round(ser.median(), 2),\n",
    "        \"std\": round(ser.std(), 2),\n",
    "    }\n",
    "\n",
    "\n",
    "print(\"Coverage:\")\n",
    "print(\"heuristic:\".ljust(10), stats(inner_df[\"coverage\"]))\n",
    "print(\"nn:\".ljust(10), stats(inner_df[\"coverage__nn\"]))\n",
    "\n",
    "print(\"\\nTests:\")\n",
    "print(\"heuristic:\".ljust(10), stats(inner_df[\"tests\"]))\n",
    "print(\"nn:\".ljust(10), stats(inner_df[\"tests__nn\"]))\n",
    "\n",
    "print(\"\\nSteps:\")\n",
    "print(\"heuristic:\".ljust(10), stats(inner_df[\"steps\"]))\n",
    "print(\"nn:\".ljust(10), stats(inner_df[\"steps__nn\"]))\n",
    "\n",
    "print(\"\\nErrors:\")\n",
    "print(\"heuristic:\".ljust(10), stats(inner_df[\"errors\"]))\n",
    "print(\"nn:\".ljust(10), stats(inner_df[\"errors__nn\"]))"
   ]
  },
  {
   "cell_type": "code",
   "execution_count": 201,
   "metadata": {},
   "outputs": [
    {
     "data": {
      "text/html": [
       "<div>\n",
       "<style scoped>\n",
       "    .dataframe tbody tr th:only-of-type {\n",
       "        vertical-align: middle;\n",
       "    }\n",
       "\n",
       "    .dataframe tbody tr th {\n",
       "        vertical-align: top;\n",
       "    }\n",
       "\n",
       "    .dataframe thead th {\n",
       "        text-align: right;\n",
       "    }\n",
       "</style>\n",
       "<table border=\"1\" class=\"dataframe\">\n",
       "  <thead>\n",
       "    <tr style=\"text-align: right;\">\n",
       "      <th></th>\n",
       "      <th>method</th>\n",
       "      <th>steps</th>\n",
       "      <th>tests</th>\n",
       "      <th>errors</th>\n",
       "      <th>coverage</th>\n",
       "      <th>steps__nn</th>\n",
       "      <th>tests__nn</th>\n",
       "      <th>errors__nn</th>\n",
       "      <th>coverage__nn</th>\n",
       "    </tr>\n",
       "  </thead>\n",
       "  <tbody>\n",
       "    <tr>\n",
       "      <th>0</th>\n",
       "      <td>BinarySearch</td>\n",
       "      <td>433</td>\n",
       "      <td>7</td>\n",
       "      <td>1</td>\n",
       "      <td>100.0</td>\n",
       "      <td>303</td>\n",
       "      <td>7</td>\n",
       "      <td>1</td>\n",
       "      <td>100.0</td>\n",
       "    </tr>\n",
       "    <tr>\n",
       "      <th>5</th>\n",
       "      <td>Switches5</td>\n",
       "      <td>1107</td>\n",
       "      <td>5</td>\n",
       "      <td>6</td>\n",
       "      <td>100.0</td>\n",
       "      <td>716</td>\n",
       "      <td>5</td>\n",
       "      <td>3</td>\n",
       "      <td>100.0</td>\n",
       "    </tr>\n",
       "    <tr>\n",
       "      <th>6</th>\n",
       "      <td>NestedFors</td>\n",
       "      <td>125</td>\n",
       "      <td>2</td>\n",
       "      <td>0</td>\n",
       "      <td>100.0</td>\n",
       "      <td>49</td>\n",
       "      <td>2</td>\n",
       "      <td>0</td>\n",
       "      <td>100.0</td>\n",
       "    </tr>\n",
       "    <tr>\n",
       "      <th>8</th>\n",
       "      <td>BellmanFord</td>\n",
       "      <td>4217</td>\n",
       "      <td>6</td>\n",
       "      <td>13</td>\n",
       "      <td>100.0</td>\n",
       "      <td>267</td>\n",
       "      <td>4</td>\n",
       "      <td>11</td>\n",
       "      <td>100.0</td>\n",
       "    </tr>\n",
       "    <tr>\n",
       "      <th>10</th>\n",
       "      <td>determinant</td>\n",
       "      <td>1620</td>\n",
       "      <td>3</td>\n",
       "      <td>4</td>\n",
       "      <td>100.0</td>\n",
       "      <td>390</td>\n",
       "      <td>3</td>\n",
       "      <td>4</td>\n",
       "      <td>100.0</td>\n",
       "    </tr>\n",
       "  </tbody>\n",
       "</table>\n",
       "</div>"
      ],
      "text/plain": [
       "          method  steps  tests  errors  coverage  steps__nn  tests__nn  \\\n",
       "0   BinarySearch    433      7       1     100.0        303          7   \n",
       "5      Switches5   1107      5       6     100.0        716          5   \n",
       "6     NestedFors    125      2       0     100.0         49          2   \n",
       "8    BellmanFord   4217      6      13     100.0        267          4   \n",
       "10   determinant   1620      3       4     100.0        390          3   \n",
       "\n",
       "    errors__nn  coverage__nn  \n",
       "0            1         100.0  \n",
       "5            3         100.0  \n",
       "6            0         100.0  \n",
       "8           11         100.0  \n",
       "10           4         100.0  "
      ]
     },
     "execution_count": 201,
     "metadata": {},
     "output_type": "execute_result"
    }
   ],
   "source": [
    "inner_hundred = inner_df.loc[inner_df[\"coverage\"] == 100]\n",
    "inner_hundred = inner_hundred.loc[inner_df[\"coverage__nn\"] == 100]\n",
    "inner_hundred.head()"
   ]
  },
  {
   "cell_type": "markdown",
   "metadata": {},
   "source": [
    "## Сравнение с покрытием в 100%"
   ]
  },
  {
   "cell_type": "markdown",
   "metadata": {},
   "source": [
    "### Шаги"
   ]
  },
  {
   "cell_type": "code",
   "execution_count": 209,
   "metadata": {},
   "outputs": [
    {
     "data": {
      "text/plain": [
       "<Axes: xlabel='steps', ylabel='Count'>"
      ]
     },
     "execution_count": 209,
     "metadata": {},
     "output_type": "execute_result"
    },
    {
     "data": {
      "image/png": "[encoded data removed]",
      "text/plain": [
       "<Figure size 640x480 with 1 Axes>"
      ]
     },
     "metadata": {},
     "output_type": "display_data"
    }
   ],
   "source": [
    "fig, ax = plt.subplots()\n",
    "\n",
    "sns.histplot(\n",
    "    data=inner_hundred, x=\"steps\", bins=20, kde=True, ax=ax, binrange=(0, 5000)\n",
    ")\n",
    "sns.histplot(\n",
    "    data=inner_hundred,\n",
    "    x=\"steps__nn\",\n",
    "    bins=20,\n",
    "    kde=True,\n",
    "    ax=ax,\n",
    "    color=\"red\",\n",
    "    binrange=(0, 5000),\n",
    ")"
   ]
  },
  {
   "cell_type": "markdown",
   "metadata": {},
   "source": [
    "### Тесты"
   ]
  },
  {
   "cell_type": "code",
   "execution_count": 213,
   "metadata": {},
   "outputs": [
    {
     "data": {
      "text/plain": [
       "<Axes: xlabel='tests', ylabel='Count'>"
      ]
     },
     "execution_count": 213,
     "metadata": {},
     "output_type": "execute_result"
    },
    {
     "data": {
      "image/png": "[encoded data removed]",
      "text/plain": [
       "<Figure size 640x480 with 1 Axes>"
      ]
     },
     "metadata": {},
     "output_type": "display_data"
    }
   ],
   "source": [
    "fig, ax = plt.subplots()\n",
    "\n",
    "sns.histplot(data=inner_hundred, x=\"tests\", bins=10, kde=True, ax=ax, binrange=(0, 20))\n",
    "sns.histplot(data=inner_hundred, x=\"tests__nn\", bins=10, kde=True, ax=ax, color=\"red\", binrange=(0, 20))"
   ]
  },
  {
   "cell_type": "markdown",
   "metadata": {},
   "source": [
    "### Ошибки"
   ]
  },
  {
   "cell_type": "code",
   "execution_count": 214,
   "metadata": {},
   "outputs": [
    {
     "data": {
      "text/plain": [
       "<Axes: xlabel='errors', ylabel='Count'>"
      ]
     },
     "execution_count": 214,
     "metadata": {},
     "output_type": "execute_result"
    },
    {
     "data": {
      "image/png": "[encoded data removed]",
      "text/plain": [
       "<Figure size 640x480 with 1 Axes>"
      ]
     },
     "metadata": {},
     "output_type": "display_data"
    }
   ],
   "source": [
    "fig, ax = plt.subplots()\n",
    "\n",
    "sns.histplot(data=inner_hundred, x=\"errors\", bins=10, kde=True, ax=ax, binrange=(0, 20))\n",
    "sns.histplot(data=inner_hundred, x=\"errors__nn\", bins=10, kde=True, ax=ax, color=\"red\", binrange=(0, 20))"
   ]
  },
  {
   "cell_type": "markdown",
   "metadata": {},
   "source": [
    "## Распределение покрытий"
   ]
  },
  {
   "cell_type": "code",
   "execution_count": 215,
   "metadata": {},
   "outputs": [
    {
     "data": {
      "text/plain": [
       "<Axes: xlabel='coverage', ylabel='Count'>"
      ]
     },
     "execution_count": 215,
     "metadata": {},
     "output_type": "execute_result"
    },
    {
     "data": {
      "image/png": "[encoded data removed]",
      "text/plain": [
       "<Figure size 640x480 with 1 Axes>"
      ]
     },
     "metadata": {},
     "output_type": "display_data"
    }
   ],
   "source": [
    "fig, ax = plt.subplots()\n",
    "\n",
    "sns.histplot(data=inner_df, x=\"coverage\", bins=10, kde=True, ax=ax, binrange=(0, 100))\n",
    "sns.histplot(data=inner_df, x=\"coverage__nn\", bins=10, kde=True, ax=ax, color=\"red\", binrange=(0, 100))"
   ]
  },
  {
   "cell_type": "code",
   "execution_count": null,
   "metadata": {},
   "outputs": [],
   "source": []
  }
 ],
 "metadata": {
  "kernelspec": {
   "display_name": "cs",
   "language": "python",
   "name": "python3"
  },
  "language_info": {
   "codemirror_mode": {
    "name": "ipython",
    "version": 3
   },
   "file_extension": ".py",
   "mimetype": "text/x-python",
   "name": "python",
   "nbconvert_exporter": "python",
   "pygments_lexer": "ipython3",
   "version": "3.11.3"
  }
 },
 "nbformat": 4,
 "nbformat_minor": 2
}
